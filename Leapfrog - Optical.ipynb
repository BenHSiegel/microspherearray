{
 "cells": [
  {
   "cell_type": "code",
   "execution_count": 1,
   "metadata": {},
   "outputs": [],
   "source": [
    "import numpy as np\n",
    "import matplotlib.pyplot as plt\n",
    "import scipy.signal as scisig\n",
    "import scipy.optimize as opt\n",
    "from numba import jit, njit\n",
    "import time\n",
    "import scipy.io as sio\n",
    "\n",
    "from scipy.signal import butter, lfilter\n",
    "\n",
    "def butter_lowpass(highcut, fs, order=5):\n",
    "    nyq = 0.5 * fs\n",
    "    high = highcut / nyq\n",
    "    b, a = butter(order, high, btype='lowpass')\n",
    "    return b, a\n",
    "\n",
    "\n",
    "def butter_lowpass_filter(data, highcut, fs, order=5):\n",
    "    b, a = butter_lowpass(highcut, fs, order=order)\n",
    "    y = lfilter(b, a, data)\n",
    "    return y\n",
    "\n",
    "def butter_highpass(lowcut, fs, order=5):\n",
    "    nyq = 0.5 * fs\n",
    "    low = lowcut / nyq\n",
    "    b, a = butter(order, low, btype='highpass')\n",
    "    return b, a\n",
    "\n",
    "\n",
    "def butter_highpass_filter(data, lowcut, fs, order=5):\n",
    "    b, a = butter_highpass(lowcut, fs, order=order)\n",
    "    y = lfilter(b, a, data)\n",
    "    return y\n",
    "\n",
    "def Linewidth2(x, a,  x0, gamma, c): #with noise floor\n",
    "    return a*(gamma)/((x0**2 - x**2)**2+(x*gamma)**2) + c\n",
    "\n",
    "def Linewidth(x, a,  x0, gamma): #with noise floor\n",
    "    return a*(gamma)/((x0**2 - x**2)**2+(x*gamma)**2) "
   ]
  },
  {
   "cell_type": "code",
   "execution_count": 2,
   "metadata": {},
   "outputs": [],
   "source": [
    "import random\n",
    "nump = 2*10**(7)\n",
    "\n",
    "np.random.seed(1235681)\n",
    "randomlist = np.random.normal(0, 1, nump) # for thermal force\n",
    "\n",
    "#seed\n",
    "np.random.seed(9472518)\n",
    "randomlist2 = np.random.normal(0, 1, nump) # for thermal force\n",
    "\n",
    "np.random.seed(83691836)\n",
    "randomlist3 = np.random.normal(0, 1, nump) # for feedback noise\n",
    "\n",
    "np.random.seed(173859382)\n",
    "randomlist4 = np.random.normal(0, 1, nump) # for detection noise\n",
    "\n",
    "np.random.seed(157391034)\n",
    "randomlist5 = np.random.normal(0, 1, nump) # for detection noise"
   ]
  },
  {
   "cell_type": "code",
   "execution_count": 3,
   "metadata": {},
   "outputs": [],
   "source": [
    "@njit\n",
    "def leapfrog_thermal(i, buf, y1, y2, w01, w02, Fth1, Fth2, M1, M2, Q1, Q2, dt, rnd1, rnd2, separation):\n",
    "    # i is iteration we are on\n",
    "    # x0 and v0 are initial position and velocity for this step\n",
    "    # dt is timestep size\n",
    "    # rnd is random number for this timestep\n",
    "    tmpbuf = np.zeros(4)\n",
    "    \n",
    "    xint1 = buf[0] + 0.5*buf[1]*dt\n",
    "    xint2 = buf[2] + 0.5*buf[3]*dt\n",
    "    offset = separation/2\n",
    "    v1 = buf[1]*(1 - y1*dt) + Fth1*rnd1*dt - w01**2*(xint1-offset)*dt - dt*1/M1/4/np.pi/e0*(Q1*Q2)/(xint2-xint1)**2\n",
    "    x1 = xint1 + 0.5*v1*dt\n",
    "    \n",
    "    v2 = buf[3]*(1 - y2*dt) + Fth2*rnd2*dt - w02**2*(xint2+offset)*dt + dt*1/M2/4/np.pi/e0*(Q1*Q2)/(xint2-xint1)**2\n",
    "    x2 = xint2 + 0.5*v2*dt\n",
    "    \n",
    "    tmpbuf[0] = x1\n",
    "    tmpbuf[1] = v1\n",
    "    tmpbuf[2] = x2\n",
    "    tmpbuf[3] = v2\n",
    "    return tmpbuf\n",
    "\n",
    "@njit\n",
    "def loop_itth(n, y1, y2, w01, w02, Fth1, Fth2, M1, M2, Q1, Q2, dtn, randomlist, randomlist2, separation):\n",
    "    buf = np.array([separation/2, 0, -separation/2, 0])\n",
    "    xl1 = np.zeros(n)\n",
    "    vl1 = np.zeros(n)\n",
    "    xl2 = np.zeros(n)\n",
    "    vl2 = np.zeros(n)\n",
    "    for i in range(n):\n",
    "        buf = leapfrog_thermal(i, buf, y1, y2, w01, w02, Fth1, Fth2, M1, M2, Q1, Q2, dtn, randomlist[i], randomlist2[i], separation)\n",
    "        xl1[i] = buf[0]\n",
    "        vl1[i] = buf[1]\n",
    "        xl2[i] = buf[2]\n",
    "        vl2[i] = buf[3]\n",
    "    return xl1, vl1, xl2, vl2"
   ]
  },
  {
   "cell_type": "code",
   "execution_count": 6,
   "metadata": {},
   "outputs": [
    {
     "name": "stdout",
     "output_type": "stream",
     "text": [
      "100.0\n",
      "100.0\n"
     ]
    }
   ],
   "source": [
    "# User set variables\n",
    "P = 3*10**(0) # Pressure in mbar\n",
    "T = 293 # Environmental temperature\n",
    "alpha = (1)**(1/3) # Ratio of particle masses\n",
    "R1 = (5000)*10**(-9) # Particle Radius\n",
    "R2 = (alpha**(1/3))*R1 # Particle Radius\n",
    "p = 1850 # Particle Denisty\n",
    "dtn = 5*10**(-5) # Timestep\n",
    "nump = 2*10**6 # Number of points\n",
    "\n",
    "# Other Variables\n",
    "M1 = 4/3*np.pi*R1**3*p # Particle mass\n",
    "M2 = 4/3*np.pi*R2**3*p # Particle mass\n",
    "kb = 1.38*10**(-23) # Boltzmann constant\n",
    "m = 29*1.67*10**(-27) # average mass of air particles\n",
    "v = np.sqrt(8*1.38*10**(-23)*T/(np.pi*m)) # velocity of air particles\n",
    "N0 = 2.43*10**(25) # Number density of air and ambient pressure\n",
    "P0 = 1000 # Ambient pressure\n",
    "N=N0*P/P0 # Number density of air at pressure P\n",
    "#y = (4/3*np.pi)*(m*v*N*Reff**2)/(M) # Damping from air\n",
    "y1 = 4.10568*1e-6*P*1e2/R1 # Antonio's damping from air\n",
    "y2 = 4.10568*1e-6*P*1e2/R2 # Antonio's damping from air\n",
    "Fth1 =  np.sqrt(2*kb*T*y1/M1/dtn)# Thermal force noise\n",
    "Fth2 =  np.sqrt(2*kb*T*y2/M2/dtn)# Thermal force noise\n",
    "Q1 = 1000*1.6*10**(-19) # Charge\n",
    "Q2 = 1000*1.6*10**(-19) # Charge\n",
    "w01 = 100*2*np.pi # Frequency\n",
    "w02 = 100*2*np.pi # Frequency\n",
    "\n",
    "sep = 75*10**(-6) # Separation\n",
    "\n",
    "print(w01/2/np.pi)\n",
    "print(w02/2/np.pi)"
   ]
  },
  {
   "cell_type": "code",
   "execution_count": 7,
   "metadata": {},
   "outputs": [
    {
     "ename": "TypingError",
     "evalue": "Failed in nopython mode pipeline (step: nopython frontend)\n\u001b[1m\u001b[1m\u001b[1m\u001b[1mFailed in nopython mode pipeline (step: nopython frontend)\n\u001b[1mNameError: name 'e0' is not defined\u001b[0m\n\u001b[0m\u001b[1mDuring: resolving callee type: type(CPUDispatcher(<function leapfrog_thermal at 0x000001CC32B85E50>))\u001b[0m\n\u001b[0m\u001b[1mDuring: typing of call at C:\\Users\\Ben\\AppData\\Local\\Temp/ipykernel_12260/1488981223.py (32)\n\u001b[0m\n\u001b[0m\u001b[1mDuring: resolving callee type: type(CPUDispatcher(<function leapfrog_thermal at 0x000001CC32B85E50>))\u001b[0m\n\u001b[0m\u001b[1mDuring: typing of call at C:\\Users\\Ben\\AppData\\Local\\Temp/ipykernel_12260/1488981223.py (32)\n\u001b[0m\n\u001b[1m\nFile \"..\\..\\AppData\\Local\\Temp\\ipykernel_12260\\1488981223.py\", line 32:\u001b[0m\n\u001b[1m<source missing, REPL/exec in use?>\u001b[0m\n",
     "output_type": "error",
     "traceback": [
      "\u001b[1;31m---------------------------------------------------------------------------\u001b[0m",
      "\u001b[1;31mTypingError\u001b[0m                               Traceback (most recent call last)",
      "\u001b[1;32m~\\AppData\\Local\\Temp/ipykernel_12260/2460327353.py\u001b[0m in \u001b[0;36m<module>\u001b[1;34m\u001b[0m\n\u001b[1;32m----> 1\u001b[1;33m \u001b[0mx1l\u001b[0m\u001b[1;33m,\u001b[0m \u001b[0mv1l\u001b[0m\u001b[1;33m,\u001b[0m \u001b[0mx2l\u001b[0m\u001b[1;33m,\u001b[0m \u001b[0mv2l\u001b[0m \u001b[1;33m=\u001b[0m \u001b[0mloop_itth\u001b[0m\u001b[1;33m(\u001b[0m\u001b[0mnump\u001b[0m\u001b[1;33m,\u001b[0m \u001b[0my1\u001b[0m\u001b[1;33m,\u001b[0m \u001b[0my2\u001b[0m\u001b[1;33m,\u001b[0m \u001b[0mw01\u001b[0m\u001b[1;33m,\u001b[0m \u001b[0mw02\u001b[0m\u001b[1;33m,\u001b[0m \u001b[0mFth1\u001b[0m\u001b[1;33m,\u001b[0m \u001b[0mFth2\u001b[0m\u001b[1;33m,\u001b[0m \u001b[0mM1\u001b[0m\u001b[1;33m,\u001b[0m \u001b[0mM2\u001b[0m\u001b[1;33m,\u001b[0m \u001b[0mQ1\u001b[0m\u001b[1;33m,\u001b[0m \u001b[0mQ2\u001b[0m\u001b[1;33m,\u001b[0m \u001b[0mdtn\u001b[0m\u001b[1;33m,\u001b[0m \u001b[0mrandomlist\u001b[0m\u001b[1;33m,\u001b[0m \u001b[0mrandomlist2\u001b[0m\u001b[1;33m,\u001b[0m \u001b[0msep\u001b[0m\u001b[1;33m)\u001b[0m\u001b[1;33m\u001b[0m\u001b[1;33m\u001b[0m\u001b[0m\n\u001b[0m",
      "\u001b[1;32m~\\anaconda3\\lib\\site-packages\\numba\\core\\dispatcher.py\u001b[0m in \u001b[0;36m_compile_for_args\u001b[1;34m(self, *args, **kws)\u001b[0m\n\u001b[0;32m    480\u001b[0m                 \u001b[0me\u001b[0m\u001b[1;33m.\u001b[0m\u001b[0mpatch_message\u001b[0m\u001b[1;33m(\u001b[0m\u001b[0mmsg\u001b[0m\u001b[1;33m)\u001b[0m\u001b[1;33m\u001b[0m\u001b[1;33m\u001b[0m\u001b[0m\n\u001b[0;32m    481\u001b[0m \u001b[1;33m\u001b[0m\u001b[0m\n\u001b[1;32m--> 482\u001b[1;33m             \u001b[0merror_rewrite\u001b[0m\u001b[1;33m(\u001b[0m\u001b[0me\u001b[0m\u001b[1;33m,\u001b[0m \u001b[1;34m'typing'\u001b[0m\u001b[1;33m)\u001b[0m\u001b[1;33m\u001b[0m\u001b[1;33m\u001b[0m\u001b[0m\n\u001b[0m\u001b[0;32m    483\u001b[0m         \u001b[1;32mexcept\u001b[0m \u001b[0merrors\u001b[0m\u001b[1;33m.\u001b[0m\u001b[0mUnsupportedError\u001b[0m \u001b[1;32mas\u001b[0m \u001b[0me\u001b[0m\u001b[1;33m:\u001b[0m\u001b[1;33m\u001b[0m\u001b[1;33m\u001b[0m\u001b[0m\n\u001b[0;32m    484\u001b[0m             \u001b[1;31m# Something unsupported is present in the user code, add help info\u001b[0m\u001b[1;33m\u001b[0m\u001b[1;33m\u001b[0m\u001b[0m\n",
      "\u001b[1;32m~\\anaconda3\\lib\\site-packages\\numba\\core\\dispatcher.py\u001b[0m in \u001b[0;36merror_rewrite\u001b[1;34m(e, issue_type)\u001b[0m\n\u001b[0;32m    421\u001b[0m                 \u001b[1;32mraise\u001b[0m \u001b[0me\u001b[0m\u001b[1;33m\u001b[0m\u001b[1;33m\u001b[0m\u001b[0m\n\u001b[0;32m    422\u001b[0m             \u001b[1;32melse\u001b[0m\u001b[1;33m:\u001b[0m\u001b[1;33m\u001b[0m\u001b[1;33m\u001b[0m\u001b[0m\n\u001b[1;32m--> 423\u001b[1;33m                 \u001b[1;32mraise\u001b[0m \u001b[0me\u001b[0m\u001b[1;33m.\u001b[0m\u001b[0mwith_traceback\u001b[0m\u001b[1;33m(\u001b[0m\u001b[1;32mNone\u001b[0m\u001b[1;33m)\u001b[0m\u001b[1;33m\u001b[0m\u001b[1;33m\u001b[0m\u001b[0m\n\u001b[0m\u001b[0;32m    424\u001b[0m \u001b[1;33m\u001b[0m\u001b[0m\n\u001b[0;32m    425\u001b[0m         \u001b[0margtypes\u001b[0m \u001b[1;33m=\u001b[0m \u001b[1;33m[\u001b[0m\u001b[1;33m]\u001b[0m\u001b[1;33m\u001b[0m\u001b[1;33m\u001b[0m\u001b[0m\n",
      "\u001b[1;31mTypingError\u001b[0m: Failed in nopython mode pipeline (step: nopython frontend)\n\u001b[1m\u001b[1m\u001b[1m\u001b[1mFailed in nopython mode pipeline (step: nopython frontend)\n\u001b[1mNameError: name 'e0' is not defined\u001b[0m\n\u001b[0m\u001b[1mDuring: resolving callee type: type(CPUDispatcher(<function leapfrog_thermal at 0x000001CC32B85E50>))\u001b[0m\n\u001b[0m\u001b[1mDuring: typing of call at C:\\Users\\Ben\\AppData\\Local\\Temp/ipykernel_12260/1488981223.py (32)\n\u001b[0m\n\u001b[0m\u001b[1mDuring: resolving callee type: type(CPUDispatcher(<function leapfrog_thermal at 0x000001CC32B85E50>))\u001b[0m\n\u001b[0m\u001b[1mDuring: typing of call at C:\\Users\\Ben\\AppData\\Local\\Temp/ipykernel_12260/1488981223.py (32)\n\u001b[0m\n\u001b[1m\nFile \"..\\..\\AppData\\Local\\Temp\\ipykernel_12260\\1488981223.py\", line 32:\u001b[0m\n\u001b[1m<source missing, REPL/exec in use?>\u001b[0m\n"
     ]
    }
   ],
   "source": [
    "x1l, v1l, x2l, v2l = loop_itth(nump, y1, y2, w01, w02, Fth1, Fth2, M1, M2, Q1, Q2, dtn, randomlist, randomlist2, sep)"
   ]
  },
  {
   "cell_type": "code",
   "execution_count": 8,
   "metadata": {},
   "outputs": [
    {
     "ename": "NameError",
     "evalue": "name 'x1l' is not defined",
     "output_type": "error",
     "traceback": [
      "\u001b[1;31m---------------------------------------------------------------------------\u001b[0m",
      "\u001b[1;31mNameError\u001b[0m                                 Traceback (most recent call last)",
      "\u001b[1;32m~\\AppData\\Local\\Temp/ipykernel_12260/479554341.py\u001b[0m in \u001b[0;36m<module>\u001b[1;34m\u001b[0m\n\u001b[0;32m      1\u001b[0m \u001b[0mlb\u001b[0m \u001b[1;33m=\u001b[0m \u001b[1;36m0\u001b[0m\u001b[1;33m\u001b[0m\u001b[1;33m\u001b[0m\u001b[0m\n\u001b[0;32m      2\u001b[0m \u001b[0mub\u001b[0m \u001b[1;33m=\u001b[0m \u001b[1;36m10000\u001b[0m\u001b[1;33m\u001b[0m\u001b[1;33m\u001b[0m\u001b[0m\n\u001b[1;32m----> 3\u001b[1;33m \u001b[0mplt\u001b[0m\u001b[1;33m.\u001b[0m\u001b[0mplot\u001b[0m\u001b[1;33m(\u001b[0m\u001b[0mx1l\u001b[0m\u001b[1;33m[\u001b[0m\u001b[0mlb\u001b[0m\u001b[1;33m:\u001b[0m\u001b[0mub\u001b[0m\u001b[1;33m]\u001b[0m\u001b[1;33m)\u001b[0m\u001b[1;33m\u001b[0m\u001b[1;33m\u001b[0m\u001b[0m\n\u001b[0m\u001b[0;32m      4\u001b[0m \u001b[0mplt\u001b[0m\u001b[1;33m.\u001b[0m\u001b[0mplot\u001b[0m\u001b[1;33m(\u001b[0m\u001b[0mx2l\u001b[0m\u001b[1;33m[\u001b[0m\u001b[0mlb\u001b[0m\u001b[1;33m:\u001b[0m\u001b[0mub\u001b[0m\u001b[1;33m]\u001b[0m\u001b[1;33m)\u001b[0m\u001b[1;33m\u001b[0m\u001b[1;33m\u001b[0m\u001b[0m\n",
      "\u001b[1;31mNameError\u001b[0m: name 'x1l' is not defined"
     ]
    }
   ],
   "source": [
    "lb = 0\n",
    "ub = 10000\n",
    "plt.plot(x1l[lb:ub])\n",
    "plt.plot(x2l[lb:ub])"
   ]
  },
  {
   "cell_type": "code",
   "execution_count": 81,
   "metadata": {},
   "outputs": [],
   "source": [
    "inttime = 1\n",
    "PSD1 = scisig.welch(x1l, fs = 1/dtn, nperseg = 1/dtn)\n",
    "PSD2 = scisig.welch(x2l, fs = 1/dtn, nperseg = 1/dtn)"
   ]
  },
  {
   "cell_type": "code",
   "execution_count": 82,
   "metadata": {},
   "outputs": [
    {
     "data": {
      "image/png": "[encoded data removed]",
      "text/plain": [
       "<Figure size 432x288 with 1 Axes>"
      ]
     },
     "metadata": {
      "needs_background": "light"
     },
     "output_type": "display_data"
    }
   ],
   "source": [
    "lb = 0\n",
    "ub = 500\n",
    "plt.plot(PSD1[0][lb:ub], PSD1[1][lb:ub])\n",
    "plt.plot(PSD2[0][lb:ub], PSD2[1][lb:ub])\n",
    "plt.yscale('log')"
   ]
  },
  {
   "cell_type": "code",
   "execution_count": null,
   "metadata": {},
   "outputs": [],
   "source": []
  }
 ],
 "metadata": {
  "kernelspec": {
   "display_name": "Python 3 (ipykernel)",
   "language": "python",
   "name": "python3"
  },
  "language_info": {
   "codemirror_mode": {
    "name": "ipython",
    "version": 3
   },
   "file_extension": ".py",
   "mimetype": "text/x-python",
   "name": "python",
   "nbconvert_exporter": "python",
   "pygments_lexer": "ipython3",
   "version": "3.9.7"
  }
 },
 "nbformat": 4,
 "nbformat_minor": 2
}
